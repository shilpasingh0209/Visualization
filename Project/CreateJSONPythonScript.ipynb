{
 "cells": [
  {
   "cell_type": "code",
   "execution_count": 2,
   "metadata": {},
   "outputs": [
    {
     "data": {
      "text/plain": [
       "(103, 4)"
      ]
     },
     "execution_count": 2,
     "metadata": {},
     "output_type": "execute_result"
    }
   ],
   "source": [
    "import csv\n",
    "import numpy as  np\n",
    "import pandas as pd \n",
    "\n",
    "countries_name=np.array([])\n",
    "countries_data=np.array([])\n",
    "FileAttributes = 4\n",
    "\n",
    "#Reading the file with latitude and longitude details of 246 countries in the world\n",
    "with open('countries.csv') as csvDataFile:\n",
    "    csvReader = csv.reader(csvDataFile)\n",
    "    for row in csvReader:\n",
    "        countries_data=np.append(countries_data,row)\n",
    "countries_data= countries_data.reshape(246,FileAttributes)\n",
    "\n",
    "header_countries_data=countries_data[0]\n",
    "\n",
    "#Reading the country names of top 100 countries with respect to energy production in 2009\n",
    "with open('countries_names.csv') as csvDataFile:\n",
    "    csvReader = csv.reader(csvDataFile)\n",
    "    for row in csvReader:\n",
    "        countries_name=np.append(countries_name,row)\n",
    "\n",
    "#Deleting the rest of the countries details\n",
    "map_data=[]\n",
    "\n",
    "for i in range(1,countries_name.__len__()):\n",
    "    for j in range(1,countries_data.__len__()):\n",
    "        #print(\"i\",i,\"j\",j)\n",
    "        if(countries_name[i] == countries_data[j][3]):\n",
    "            map_data.append(countries_data[j])\n",
    "            break;\n",
    "map_data.__len__()\n",
    "\n",
    "map_data = np.vstack((header_countries_data,map_data))\n",
    "np.shape(map_data)"
   ]
  },
  {
   "cell_type": "code",
   "execution_count": 3,
   "metadata": {},
   "outputs": [],
   "source": [
    "df = pd.DataFrame(map_data)\n",
    "df.to_csv(\"map_data.csv\",index=False,header=False)"
   ]
  },
  {
   "cell_type": "code",
   "execution_count": 9,
   "metadata": {},
   "outputs": [
    {
     "name": "stdout",
     "output_type": "stream",
     "text": [
      "103\n",
      "3\n"
     ]
    }
   ],
   "source": [
    "import json\n",
    "\n",
    "with open('data.json') as json_data:\n",
    "    d = json.load(json_data)\n",
    "print(map_data.__len__())\n",
    "print(d.__len__())\n",
    "for i in range(d['features'].__len__()):\n",
    "    d['features'][i]['properties']['id']=map_data[i][0]  #Setting ID in JSON file\n",
    "    d['features'][i]['geometry']['coordinates'][1]=map_data[i][1] #Latitude in JSON file\n",
    "    d['features'][i]['geometry']['coordinates'][0]=map_data[i][2] #Longitude in JSON file\n",
    "    d['features'][i]['properties']['name']=map_data[i][3] #Name of the country in JSON files\n",
    "    d['features'][i]['properties']['reclat']=map_data[i][1] #Name of the country in JSON files\n",
    "    d['features'][i]['properties']['reclong']=map_data[i][2] #Name of the country in JSON files\n",
    "    d['features'][i]['properties']['year']=2010\n",
    "    \n",
    "with open('data1.json', 'w') as outfile:  \n",
    "    json.dump(d, outfile)"
   ]
  },
  {
   "cell_type": "code",
   "execution_count": null,
   "metadata": {},
   "outputs": [],
   "source": []
  }
 ],
 "metadata": {
  "kernelspec": {
   "display_name": "Python 3",
   "language": "python",
   "name": "python3"
  },
  "language_info": {
   "codemirror_mode": {
    "name": "ipython",
    "version": 3
   },
   "file_extension": ".py",
   "mimetype": "text/x-python",
   "name": "python",
   "nbconvert_exporter": "python",
   "pygments_lexer": "ipython3",
   "version": "3.6.3"
  }
 },
 "nbformat": 4,
 "nbformat_minor": 2
}
