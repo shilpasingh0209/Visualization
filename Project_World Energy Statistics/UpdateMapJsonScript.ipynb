{
 "cells": [
  {
   "cell_type": "code",
   "execution_count": 25,
   "metadata": {},
   "outputs": [
    {
     "name": "stdout",
     "output_type": "stream",
     "text": [
      "26\n",
      "100\n"
     ]
    }
   ],
   "source": [
    "import csv\n",
    "import numpy as  np\n",
    "import pandas as pd \n",
    "import json\n",
    "\n",
    "energy_data=[]\n",
    "with open('DATA\\MAP.csv') as csvDataFile:\n",
    "    csvReader = csv.reader(csvDataFile)\n",
    "    for row in csvReader:\n",
    "        energy_data=np.append(energy_data,row)\n",
    "    l=int(energy_data.__len__()/10)\n",
    "    energy_data = energy_data.reshape(l,10)\n",
    "\n",
    "\n",
    "with open('data1.json') as json_data:\n",
    "    d = json.load(json_data)\n",
    "print(energy_data.__len__())\n",
    "print(d['features'].__len__())\n",
    "for i in range(energy_data.__len__()):\n",
    "    d['features'][i]['properties']['id']=energy_data[i][7]  #Country Code in JSON file\n",
    "    d['features'][i]['geometry']['coordinates'][1]=energy_data[i][8] #Latitude in JSON file\n",
    "    d['features'][i]['geometry']['coordinates'][0]=energy_data[i][9] #Longitude in JSON file\n",
    "    d['features'][i]['properties']['name']=energy_data[i][0] #Name of the country in JSON files\n",
    "    d['features'][i]['properties']['CoalConsumption']=energy_data[i][2] #Coal in JSON files\n",
    "    d['features'][i]['properties']['HydroElectricProduction']=energy_data[i][6] #Hydro in JSON files\n",
    "    d['features'][i]['properties']['EnergyProduced']=energy_data[i][3] #Energy Produced\n",
    "    d['features'][i]['properties']['EnergyConsumed']=energy_data[i][5] #Energy Consumed\n",
    "    d['features'][i]['properties']['OilConsumed']=energy_data[i][1] #Oil\n",
    "    d['features'][i]['properties']['NaturalGasProduction']=energy_data[i][4] #Natural Gas\n",
    "    d['features'][i]['properties']['year']=2009"
   ]
  },
  {
   "cell_type": "code",
   "execution_count": 28,
   "metadata": {},
   "outputs": [
    {
     "name": "stdout",
     "output_type": "stream",
     "text": [
      "DATA\\DATA_energyproducetotal.csv 121\n",
      "DATA\\DATA_energyproducetotal.csv 60\n",
      "DATA\\DATA_energyproducetotal.csv 47\n",
      "DATA\\DATA_energyproducetotal.csv 52\n",
      "DATA\\DATA_energyproducetotal.csv 103\n",
      "DATA\\DATA_energyproducetotal.csv 122\n"
     ]
    }
   ],
   "source": [
    "def energy(file,feature):\n",
    "    oil_energy_data=[]\n",
    "    with open(file) as csvDataFile:\n",
    "        csvReader = csv.reader(csvDataFile)\n",
    "        for row in csvReader:\n",
    "            oil_energy_data=np.append(oil_energy_data,row)\n",
    "    l=int(oil_energy_data.__len__()/11)\n",
    "    oil_energy_data = oil_energy_data.reshape(l,11)\n",
    "    print(\"DATA\\DATA_energyproducetotal.csv\",oil_energy_data.__len__())\n",
    "    \n",
    "    for i in range(energy_data.__len__(),d['features'].__len__()):\n",
    "        for j in range(oil_energy_data.__len__()):\n",
    "            if(d['features'][i]['properties']['name']==oil_energy_data[j][0]):\n",
    "                d['features'][i]['properties'][feature] = oil_energy_data[j][9]\n",
    "            else:\n",
    "                d['features'][i]['properties'][feature] = \"Data Not Avaialable\"\n",
    "energy('DATA\\DATA_energyproducetotal.csv','EnergyProduced')\n",
    "energy('DATA\\DATA_OilConsumption.csv','OilConsumed')\n",
    "energy('DATA\\DATA_NaturalGasProduction.csv','NaturalGasProduction')\n",
    "energy('DATA\\DATA_Coal Consumption.csv','CoalConsumption')\n",
    "energy('DATA\\DATA_HydroProduction.csv','reclong')\n",
    "energy('DATA\\DATA_EnergyUseTotal.csv','EnergyConsumed')"
   ]
  },
  {
   "cell_type": "code",
   "execution_count": 29,
   "metadata": {},
   "outputs": [
    {
     "name": "stdout",
     "output_type": "stream",
     "text": [
      "Success\n"
     ]
    }
   ],
   "source": [
    "with open('data.json', 'w') as outfile:  \n",
    "    json.dump(d, outfile)\n",
    "print(\"Success\")"
   ]
  },
  {
   "cell_type": "code",
   "execution_count": null,
   "metadata": {},
   "outputs": [],
   "source": []
  }
 ],
 "metadata": {
  "kernelspec": {
   "display_name": "Python 3",
   "language": "python",
   "name": "python3"
  },
  "language_info": {
   "codemirror_mode": {
    "name": "ipython",
    "version": 3
   },
   "file_extension": ".py",
   "mimetype": "text/x-python",
   "name": "python",
   "nbconvert_exporter": "python",
   "pygments_lexer": "ipython3",
   "version": "3.6.3"
  }
 },
 "nbformat": 4,
 "nbformat_minor": 2
}
